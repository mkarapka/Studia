{
 "cells": [
  {
   "cell_type": "code",
   "execution_count": 23,
   "metadata": {},
   "outputs": [
    {
     "name": "stderr",
     "output_type": "stream",
     "text": [
      "Some weights of the model checkpoint at allegro/herbert-base-cased were not used when initializing BertModel: ['cls.predictions.bias', 'cls.predictions.decoder.bias', 'cls.predictions.decoder.weight', 'cls.predictions.transform.LayerNorm.bias', 'cls.predictions.transform.LayerNorm.weight', 'cls.predictions.transform.dense.bias', 'cls.predictions.transform.dense.weight', 'cls.sso.sso_relationship.bias', 'cls.sso.sso_relationship.weight']\n",
      "- This IS expected if you are initializing BertModel from the checkpoint of a model trained on another task or with another architecture (e.g. initializing a BertForSequenceClassification model from a BertForPreTraining model).\n",
      "- This IS NOT expected if you are initializing BertModel from the checkpoint of a model that you expect to be exactly identical (initializing a BertForSequenceClassification model from a BertForSequenceClassification model).\n"
     ]
    },
    {
     "data": {
      "text/plain": [
       "'cuda'"
      ]
     },
     "execution_count": 23,
     "metadata": {},
     "output_type": "execute_result"
    }
   ],
   "source": [
    "import torch\n",
    "import random\n",
    "from transformers import AutoTokenizer, AutoModel\n",
    "\n",
    "model_name = \"allegro/herbert-base-cased\"\n",
    "device = \"cuda\" if torch.cuda.is_available() else \"cpu\"\n",
    "\n",
    "tokenizer = AutoTokenizer.from_pretrained(model_name)\n",
    "model = AutoModel.from_pretrained(model_name).to(device)\n",
    "device"
   ]
  },
  {
   "cell_type": "markdown",
   "metadata": {},
   "source": [
    "<!-- @format -->\n",
    "\n",
    "# Subtask a) - Augmentacja mechaniczna\n"
   ]
  },
  {
   "cell_type": "code",
   "execution_count": 24,
   "metadata": {},
   "outputs": [],
   "source": [
    "def get_embeddings_BERT(train_lines, test_lines, K=0, augment=True, f_a=lambda x: x):\n",
    "    def representation(L):\n",
    "        txt = \" \".join(L)\n",
    "        input_ids = tokenizer(txt, return_tensors=\"pt\")[\"input_ids\"].to(device)\n",
    "        output = model(input_ids=input_ids)\n",
    "        return output.last_hidden_state.detach().cpu().numpy()[0, 0, :]\n",
    "\n",
    "    X_train = []\n",
    "    y_train = []\n",
    "    X_test = []\n",
    "    y_test = []\n",
    "\n",
    "    for line in train_lines:\n",
    "        L = line.split()\n",
    "        y = 0 if L[0] == \"BAD\" else 1\n",
    "\n",
    "        x = representation(L[1:])\n",
    "        y_train.append(y)\n",
    "        X_train.append(x)\n",
    "\n",
    "        if augment:\n",
    "            for _ in range(K):\n",
    "                x = representation(f_a(L[1:]))\n",
    "                y_train.append(y)\n",
    "                X_train.append(x)\n",
    "\n",
    "    for line in test_lines:\n",
    "        L = line.split()\n",
    "        y = 0 if L[0] == \"BAD\" else 1\n",
    "\n",
    "        x = representation(L[1:])\n",
    "        y_test.append(y)\n",
    "        X_test.append(x)\n",
    "    return X_train, y_train, X_test, y_test"
   ]
  },
  {
   "cell_type": "code",
   "execution_count": 25,
   "metadata": {},
   "outputs": [],
   "source": [
    "def spoil(L):\n",
    "    res = []\n",
    "    for w in L:\n",
    "        if random.random() < 0.85:\n",
    "            res.append(w)\n",
    "        else:\n",
    "            res.append(w.upper())\n",
    "    return res\n",
    "\n",
    "\n",
    "def mechanic_augment(L):\n",
    "    res = []\n",
    "    for w in L:\n",
    "        if random.random() < 0.85:\n",
    "            res.append(w)\n",
    "        else:\n",
    "            wl = list(w)\n",
    "            if len(w) > 1:\n",
    "                i1, i2 = random.sample(range(len(w)), 2)\n",
    "                wl[i1], wl[i2] = wl[i2], wl[i1]\n",
    "                wl[0] = wl[0].upper()\n",
    "            res.append(\"\".join(wl))\n",
    "    return res"
   ]
  },
  {
   "cell_type": "markdown",
   "metadata": {},
   "source": [
    "<!-- @format -->\n",
    "\n",
    "# Subtask b) - Augmentacja generatywna\n"
   ]
  },
  {
   "cell_type": "code",
   "execution_count": 26,
   "metadata": {},
   "outputs": [],
   "source": [
    "import torch\n",
    "from transformers import AutoTokenizer, AutoModelForCausalLM\n",
    "\n",
    "model_name_p = \"flax-community/papuGaPT2\"\n",
    "tokenizer_papuga = AutoTokenizer.from_pretrained(model_name_p)\n",
    "device = \"cuda\" if torch.cuda.is_available() else \"cpu\"\n",
    "model_papuga = AutoModelForCausalLM.from_pretrained(model_name_p).to(device)"
   ]
  },
  {
   "cell_type": "code",
   "execution_count": 27,
   "metadata": {},
   "outputs": [
    {
     "data": {
      "text/plain": [
       "'Dzień dobry, co u ciebie słychać oraz jak sobie radzisz z tymi wszystkimi problemami.'"
      ]
     },
     "execution_count": 27,
     "metadata": {},
     "output_type": "execute_result"
    }
   ],
   "source": [
    "def generate_augmented_sentence(sentence: str):\n",
    "    prompt = sentence.strip(\".?!\") + \" oraz\"\n",
    "    model_inputs = tokenizer_papuga(prompt, return_tensors=\"pt\", padding=False)\n",
    "    model_inputs = model_inputs.to(device)\n",
    "    attention_mask = model_inputs[\"attention_mask\"].to(device)\n",
    "\n",
    "    with torch.no_grad():\n",
    "        generated_ids = model_papuga.generate(\n",
    "            model_inputs[\"input_ids\"],\n",
    "            attention_mask=attention_mask,\n",
    "            max_new_tokens=15,\n",
    "            do_sample=True,\n",
    "            top_k=10,\n",
    "            top_p=0.90,\n",
    "            pad_token_id=tokenizer_papuga.eos_token_id,\n",
    "        )\n",
    "\n",
    "        res = tokenizer_papuga.decode(generated_ids[0], skip_special_tokens=True)\n",
    "        for i in range(len(prompt), len(res)):\n",
    "            if res[i] in \"?.!\":\n",
    "                return res[: i + 1]\n",
    "        return res + \".\"\n",
    "\n",
    "\n",
    "w = \"Dzień dobry, co u ciebie słychać.\"\n",
    "generate_augmented_sentence(w)"
   ]
  },
  {
   "cell_type": "code",
   "execution_count": 28,
   "metadata": {},
   "outputs": [],
   "source": [
    "def get_embeddings_papuga(test_lines, train_lines, K=0, augment=False):\n",
    "    def representation(L):\n",
    "        txt = \" \".join(L)\n",
    "        input_ids = tokenizer(txt, return_tensors=\"pt\")[\"input_ids\"].to(device)\n",
    "        output = model(input_ids=input_ids)\n",
    "        return output.last_hidden_state.detach().cpu().numpy()[0, 0, :]\n",
    "\n",
    "    X_train, y_train = [], []\n",
    "    X_test, y_test = [], []\n",
    "\n",
    "    for line in train_lines:\n",
    "        L = line.split()\n",
    "        y = 0 if L[0] == \"BAD\" else 1\n",
    "\n",
    "        x = representation(L[1:])\n",
    "        y_train.append(y)\n",
    "        X_train.append(x)\n",
    "\n",
    "        if augment:\n",
    "            sent = \"\".join(L[1:])\n",
    "            for _ in range(K):\n",
    "                new_sent = generate_augmented_sentence(sent)\n",
    "                x = representation(new_sent.split())\n",
    "                y_train.append(y)\n",
    "                X_train.append(x)\n",
    "\n",
    "    for line in test_lines:\n",
    "        L = line.split()\n",
    "        y = 0 if L[0] == \"BAD\" else 1\n",
    "\n",
    "        x = representation(L[1:])\n",
    "        y_test.append(y)\n",
    "        X_test.append(x)\n",
    "\n",
    "    return X_train, y_train, X_test, y_test"
   ]
  },
  {
   "cell_type": "markdown",
   "metadata": {},
   "source": [
    "<!-- @format -->\n",
    "\n",
    "# Subtask c) - Word2Vec\n"
   ]
  },
  {
   "cell_type": "code",
   "execution_count": null,
   "metadata": {},
   "outputs": [],
   "source": []
  },
  {
   "cell_type": "markdown",
   "metadata": {},
   "source": [
    "<!-- @format -->\n",
    "\n",
    "# Testy\n"
   ]
  },
  {
   "cell_type": "code",
   "execution_count": 35,
   "metadata": {},
   "outputs": [],
   "source": [
    "from sklearn.linear_model import LogisticRegression\n",
    "from sklearn.metrics import accuracy_score, precision_score, recall_score\n",
    "import numpy as np"
   ]
  },
  {
   "cell_type": "code",
   "execution_count": 36,
   "metadata": {},
   "outputs": [],
   "source": [
    "def get_reviews(file_name):\n",
    "    with open(file_name, \"r\", encoding=\"utf-8\") as file:\n",
    "        return [line.rstrip() for line in file.readlines()]\n",
    "\n",
    "\n",
    "def split_data(lines, size_of_test=4):\n",
    "    random.shuffle(lines)\n",
    "\n",
    "    N = len(lines)\n",
    "    test_size = N // size_of_test\n",
    "    train_size = N - test_size\n",
    "\n",
    "    train_lines = lines[:train_size]\n",
    "    test_lines = lines[train_size:]\n",
    "\n",
    "    return train_lines, test_lines\n",
    "\n",
    "\n",
    "lines = get_reviews(\"reviews.txt\")\n",
    "\n",
    "train_lines, test_lines = split_data(lines)"
   ]
  },
  {
   "cell_type": "markdown",
   "metadata": {},
   "source": [
    "<!-- @format -->\n",
    "\n",
    "## Bez augmentacji\n"
   ]
  },
  {
   "cell_type": "code",
   "execution_count": 37,
   "metadata": {},
   "outputs": [
    {
     "name": "stdout",
     "output_type": "stream",
     "text": [
      "Accuracy: 0.79\n",
      "Precision: 0.8095\n",
      "Recall: 0.8500\n"
     ]
    }
   ],
   "source": [
    "X_train, y_train, X_test, y_test = get_embeddings_BERT(\n",
    "    train_lines, test_lines, K=2, augment=False\n",
    ")\n",
    "clf_no_aug = LogisticRegression(max_iter=1000, solver=\"lbfgs\").fit(X_train, y_train)\n",
    "\n",
    "\n",
    "y_pred = clf_no_aug.predict(X_test)\n",
    "\n",
    "# ewaluacja wyników\n",
    "accuracy = accuracy_score(y_test, y_pred)\n",
    "precision = precision_score(y_test, y_pred)\n",
    "recall = recall_score(y_test, y_pred)\n",
    "\n",
    "# Printowanie wyników\n",
    "print(f\"Accuracy: {accuracy}\")\n",
    "print(f\"Precision: {precision:.4f}\")\n",
    "print(f\"Recall: {recall:.4f}\")"
   ]
  },
  {
   "cell_type": "markdown",
   "metadata": {},
   "source": [
    "<!-- @format -->\n",
    "\n",
    "## Z augmentacją mechaniczną\n"
   ]
  },
  {
   "cell_type": "code",
   "execution_count": 38,
   "metadata": {},
   "outputs": [
    {
     "name": "stdout",
     "output_type": "stream",
     "text": [
      "Accuracy: 0.82\n",
      "Precision: 0.8500\n",
      "Recall: 0.8500\n"
     ]
    }
   ],
   "source": [
    "X_train, y_train, X_test, y_test = get_embeddings_BERT(\n",
    "    train_lines, test_lines, K=3, f_a=mechanic_augment\n",
    ")\n",
    "\n",
    "\n",
    "clf_BERT = LogisticRegression(max_iter=1000, solver=\"lbfgs\").fit(X_train, y_train)\n",
    "\n",
    "\n",
    "\n",
    "y_pred = clf_BERT.predict(X_test)\n",
    "\n",
    "# ewaluacja wyników\n",
    "accuracy = accuracy_score(y_test, y_pred)\n",
    "precision = precision_score(y_test, y_pred)\n",
    "recall = recall_score(y_test, y_pred)\n",
    "\n",
    "# Printowanie wyników\n",
    "print(f\"Accuracy: {accuracy}\")\n",
    "print(f\"Precision: {precision:.4f}\")\n",
    "print(f\"Recall: {recall:.4f}\")"
   ]
  },
  {
   "cell_type": "markdown",
   "metadata": {},
   "source": [
    "<!-- @format -->\n",
    "\n",
    "## Z augmentacją generatywną\n"
   ]
  },
  {
   "cell_type": "code",
   "execution_count": 39,
   "metadata": {},
   "outputs": [],
   "source": [
    "X_train, y_train, X_test, y_test = get_embeddings_papuga(\n",
    "    train_lines, test_lines, K=3, augment=True\n",
    ")"
   ]
  },
  {
   "cell_type": "code",
   "execution_count": 40,
   "metadata": {},
   "outputs": [
    {
     "name": "stdout",
     "output_type": "stream",
     "text": [
      "Accuracy: 0.6833333333333333\n",
      "Precision: 0.6433\n",
      "Recall: 0.7214\n"
     ]
    }
   ],
   "source": [
    "clf_papuga = LogisticRegression(max_iter=1000, solver=\"lbfgs\").fit(X_train, y_train)\n",
    "\n",
    "y_pred = clf_papuga.predict(X_test)\n",
    "\n",
    "# ewaluacja wyników\n",
    "accuracy = accuracy_score(y_test, y_pred)\n",
    "precision = precision_score(y_test, y_pred)\n",
    "recall = recall_score(y_test, y_pred)\n",
    "\n",
    "# Printowanie wyników\n",
    "print(f\"Accuracy: {accuracy}\")\n",
    "print(f\"Precision: {precision:.4f}\")\n",
    "print(f\"Recall: {recall:.4f}\")"
   ]
  }
 ],
 "metadata": {
  "kernelspec": {
   "display_name": "Python 3",
   "language": "python",
   "name": "python3"
  },
  "language_info": {
   "codemirror_mode": {
    "name": "ipython",
    "version": 3
   },
   "file_extension": ".py",
   "mimetype": "text/x-python",
   "name": "python",
   "nbconvert_exporter": "python",
   "pygments_lexer": "ipython3",
   "version": "3.10.4"
  }
 },
 "nbformat": 4,
 "nbformat_minor": 2
}
