{
 "cells": [
  {
   "cell_type": "markdown",
   "id": "4971ac86",
   "metadata": {},
   "source": [
    "<!-- @format -->\n",
    "\n",
    "# Zadanie 1\n",
    "\n",
    "(2p)\n",
    "\n",
    "Zmodyfikuj notatnik **add_demo.ipynb** (modyfikacja notatnika z repozytorium minGPT), żeby wykonywał on mnożenie dwóch liczb trzycyfrowych. Postaraj się osiągnąć poziom skuteczności 1% (aczkolwiek da się spokojnie osiągnąć kilkanaście procent)\n",
    "\n",
    "Za zadanie jest premia równa $3*x$, gdzie $x$ jest punktacją na zbiorze treningowym (od $0$ do $1$)\n"
   ]
  },
  {
   "cell_type": "markdown",
   "id": "aeaa704f",
   "metadata": {},
   "source": [
    "<!-- @format -->\n",
    "\n",
    "A cute little demo showing the simplest usage of minGPT. Configured to run fine on Macbook Air in like a minute.\n"
   ]
  },
  {
   "cell_type": "code",
   "execution_count": 11,
   "id": "b9e2ec7b",
   "metadata": {},
   "outputs": [],
   "source": [
    "import torch\n",
    "from torch.utils.data import Dataset\n",
    "from torch.utils.data.dataloader import DataLoader\n",
    "from mingpt.utils import set_seed\n",
    "\n",
    "set_seed(3407)"
   ]
  },
  {
   "cell_type": "code",
   "execution_count": 12,
   "id": "61bed718",
   "metadata": {},
   "outputs": [
    {
     "name": "stdout",
     "output_type": "stream",
     "text": [
      "[0, 6, 2, 5, 3, 6, 0, 3, 3, 2, 3, 2]\n",
      "[4, 9, 5, 3, 7, 8, 1, 8, 7, 1, 1, 0]\n",
      "[6, 4, 4, 3, 1, 4, 2, 0, 2, 2, 1, 6]\n",
      "[3, 5, 9, 1, 1, 9, 0, 4, 2, 7, 2, 1]\n",
      "[3, 5, 0, 1, 4, 8, 0, 5, 1, 8, 0, 0]\n",
      "[0, 0, 2, 9, 3, 7, 0, 0, 1, 8, 7, 4]\n",
      "[8, 4, 8, 2, 3, 7, 2, 0, 0, 9, 7, 6]\n",
      "[9, 9, 9, 7, 0, 6, 7, 0, 5, 2, 9, 4]\n",
      "[7, 4, 5, 1, 3, 6, 1, 0, 1, 3, 2, 0]\n",
      "[1, 0, 1, 0, 4, 2, 0, 0, 4, 2, 4, 2]\n"
     ]
    }
   ],
   "source": [
    "import random\n",
    "\n",
    "\n",
    "\n",
    "def random_add_instance(length):\n",
    "\n",
    "    a = [random.randint(0, 9) for i in range(length)]\n",
    "    b = [random.randint(0, 9) for i in range(length)]\n",
    "    val_a = int(\"\".join(str(d) for d in a))\n",
    "    val_b = int(\"\".join(str(d) for d in b))\n",
    "    val_c = val_a + val_b\n",
    "    str_c = str(val_c)\n",
    "\n",
    "    str_c = (length + 1 - len(str_c)) * \"0\" + str_c\n",
    "\n",
    "    return a + b + [int(d) for d in str_c]\n",
    "\n",
    "\n",
    "def random_mult_instance(length):\n",
    "    a = [random.randint(0, 9) for i in range(length)]\n",
    "    b = [random.randint(0, 9) for i in range(length)]\n",
    "    val_a = int(\"\".join(str(d) for d in a))\n",
    "    val_b = int(\"\".join(str(d) for d in b))\n",
    "    val_c = val_a * val_b\n",
    "    str_c = str(val_c)\n",
    "    str_c = (length * 2 - len(str_c)) * \"0\" + str_c\n",
    "    return a + b + [int(d) for d in str_c]\n",
    "\n",
    "\n",
    "\n",
    "for i in range(10):\n",
    "\n",
    "    print(random_mult_instance(3))"
   ]
  },
  {
   "cell_type": "code",
   "execution_count": 13,
   "id": "53f052e0",
   "metadata": {},
   "outputs": [
    {
     "name": "stdout",
     "output_type": "stream",
     "text": [
      "[6, 7, 8]\n"
     ]
    }
   ],
   "source": [
    "l = [0, 1, 2, 3, 4, 5, 6, 7, 8]\n",
    "print(l[6:])"
   ]
  },
  {
   "cell_type": "code",
   "execution_count": 14,
   "id": "702de04d",
   "metadata": {},
   "outputs": [],
   "source": [
    "class MultDataset(Dataset):\n",
    "    \"\"\"\n",
    "    Dataset for the Add problem. E.g. for problem length 3:\n",
    "    12 + 333 = 345\n",
    "    Input: 0 1 2 3 3 3 -> Output: 0 3 4 5\n",
    "    Which will feed into the transformer concatenated as:\n",
    "    input:  0 1 2 3 3 3 0 3 4\n",
    "    output: I I I I I 0 3 4 5\n",
    "    where I is \"ignore\", as the transformer is reading the input sequence\n",
    "    \"\"\"\n",
    "\n",
    "    def __init__(self, split, length=3):\n",
    "        assert split in {\"train\", \"test\"}\n",
    "        self.split = split\n",
    "        self.length = length\n",
    "\n",
    "    def __len__(self):\n",
    "        return 10000  # ...\n",
    "\n",
    "    def get_vocab_size(self):\n",
    "        return 10\n",
    "\n",
    "    def get_block_size(self):\n",
    "        # the length of the sequence that will feed into transformer,\n",
    "        # containing concatenated input and the output, but -1 because\n",
    "        # the transformer starts making predictions at the last input element\n",
    "        return 4 * self.length + 1 - 1\n",
    "\n",
    "    def __getitem__(self, idx):\n",
    "        while True:\n",
    "            rai = random_mult_instance(self.length)\n",
    "            h = hash(str(rai[: 2 * self.length]))\n",
    "\n",
    "            inp_split = (\n",
    "                \"test\" if h % 4 == 0 else \"train\"\n",
    "            )  # designate 25% of examples as test\n",
    "            if inp_split == self.split:\n",
    "                break  # ok\n",
    "\n",
    "        x = torch.tensor(rai[:-1], dtype=torch.long)\n",
    "        y = torch.tensor(rai[1:], dtype=torch.long)\n",
    "\n",
    "        # we only want to predict at output locations, mask out the loss at the input locations\n",
    "        y[: 2 * self.length - 1] = -1\n",
    "        return x, y\n",
    "\n",
    "\n",
    "# \"\"\"\n",
    "# in:  8 9 6 | 9 9 9 | 8 9 5 1 0\n",
    "# out: I I I | I I 8 | 9 5 1 0 4\n",
    "# \"\"\""
   ]
  },
  {
   "cell_type": "code",
   "execution_count": 15,
   "id": "0eb21171",
   "metadata": {},
   "outputs": [
    {
     "name": "stdout",
     "output_type": "stream",
     "text": [
      "tensor([2, 9, 3, 4, 8, 0, 1, 4, 0, 6, 4])\n",
      "2 -1\n",
      "9 -1\n",
      "3 -1\n",
      "4 -1\n",
      "8 -1\n",
      "0 1\n",
      "1 4\n",
      "4 0\n",
      "0 6\n",
      "6 4\n",
      "4 0\n"
     ]
    }
   ],
   "source": [
    "# print an example instance of the dataset\n",
    "train_dataset = MultDataset(\"train\")\n",
    "test_dataset = MultDataset(\"test\")\n",
    "x, y = train_dataset[0]\n",
    "\n",
    "print(x)\n",
    "for a, b in zip(x, y):\n",
    "    print(int(a), int(b))"
   ]
  },
  {
   "cell_type": "code",
   "execution_count": 16,
   "id": "2d935a98",
   "metadata": {},
   "outputs": [
    {
     "name": "stdout",
     "output_type": "stream",
     "text": [
      "number of parameters: 0.80M\n"
     ]
    }
   ],
   "source": [
    "# create a GPT instance\n",
    "from mingpt.model import GPT\n",
    "\n",
    "model_config = GPT.get_default_config()\n",
    "model_config.model_type = \"gpt-micro\"\n",
    "# model_config.model_type = 'gpt-nano'\n",
    "\n",
    "model_config.vocab_size = train_dataset.get_vocab_size()\n",
    "model_config.block_size = train_dataset.get_block_size()\n",
    "model = GPT(model_config)"
   ]
  },
  {
   "cell_type": "code",
   "execution_count": 17,
   "id": "dc2706c1",
   "metadata": {},
   "outputs": [
    {
     "name": "stdout",
     "output_type": "stream",
     "text": [
      "4 4 128\n"
     ]
    }
   ],
   "source": [
    "print(model_config.n_head, model_config.n_layer, model_config.n_embd)"
   ]
  },
  {
   "cell_type": "code",
   "execution_count": 47,
   "id": "533a3a3b",
   "metadata": {},
   "outputs": [
    {
     "name": "stdout",
     "output_type": "stream",
     "text": [
      "running on device cuda\n"
     ]
    }
   ],
   "source": [
    "# create a Trainer object\n",
    "from mingpt.trainer import Trainer\n",
    "\n",
    "train_config = Trainer.get_default_config()\n",
    "train_config.learning_rate = (\n",
    "    2e-6  # the model we're using is so small that we can go a bit faster\n",
    ")\n",
    "train_config.lr_decay = True\n",
    "train_config.max_iters = 5000\n",
    "train_config.num_workers = 0\n",
    "trainer = Trainer(train_config, model, train_dataset)"
   ]
  },
  {
   "cell_type": "code",
   "execution_count": 48,
   "id": "b06dc363",
   "metadata": {},
   "outputs": [
    {
     "name": "stdout",
     "output_type": "stream",
     "text": [
      "iter_dt 0.00ms; iter 0: train loss 0.91416\n",
      "iter_dt 26.66ms; iter 100: train loss 0.91475\n",
      "iter_dt 18.61ms; iter 200: train loss 0.89250\n",
      "iter_dt 18.61ms; iter 300: train loss 0.93673\n",
      "iter_dt 24.16ms; iter 400: train loss 0.97105\n",
      "iter_dt 24.20ms; iter 500: train loss 0.90989\n",
      "iter_dt 16.03ms; iter 600: train loss 0.90507\n",
      "iter_dt 16.55ms; iter 700: train loss 0.93694\n",
      "iter_dt 16.54ms; iter 800: train loss 0.88312\n",
      "iter_dt 18.02ms; iter 900: train loss 0.93938\n",
      "iter_dt 22.60ms; iter 1000: train loss 0.91614\n",
      "iter_dt 18.03ms; iter 1100: train loss 0.94222\n",
      "iter_dt 16.52ms; iter 1200: train loss 0.93073\n",
      "iter_dt 17.53ms; iter 1300: train loss 0.92490\n",
      "iter_dt 17.70ms; iter 1400: train loss 0.93035\n",
      "iter_dt 21.54ms; iter 1500: train loss 0.89497\n",
      "iter_dt 16.52ms; iter 1600: train loss 0.87901\n",
      "iter_dt 22.03ms; iter 1700: train loss 0.90043\n",
      "iter_dt 17.03ms; iter 1800: train loss 0.91603\n",
      "iter_dt 18.03ms; iter 1900: train loss 0.90646\n",
      "iter_dt 23.67ms; iter 2000: train loss 0.89650\n",
      "iter_dt 23.03ms; iter 2100: train loss 0.92860\n",
      "iter_dt 17.04ms; iter 2200: train loss 0.96506\n",
      "iter_dt 22.69ms; iter 2300: train loss 0.92652\n",
      "iter_dt 26.05ms; iter 2400: train loss 0.91042\n",
      "iter_dt 16.56ms; iter 2500: train loss 0.86628\n",
      "iter_dt 20.11ms; iter 2600: train loss 0.93159\n",
      "iter_dt 16.76ms; iter 2700: train loss 0.85260\n",
      "iter_dt 16.44ms; iter 2800: train loss 0.89413\n",
      "iter_dt 17.55ms; iter 2900: train loss 0.93262\n",
      "iter_dt 16.70ms; iter 3000: train loss 0.93052\n",
      "iter_dt 25.07ms; iter 3100: train loss 0.88920\n",
      "iter_dt 17.14ms; iter 3200: train loss 0.88974\n",
      "iter_dt 24.74ms; iter 3300: train loss 0.90009\n",
      "iter_dt 17.03ms; iter 3400: train loss 0.85892\n",
      "iter_dt 16.59ms; iter 3500: train loss 0.91310\n",
      "iter_dt 18.19ms; iter 3600: train loss 0.95706\n",
      "iter_dt 19.04ms; iter 3700: train loss 0.95960\n",
      "iter_dt 24.15ms; iter 3800: train loss 0.86360\n",
      "iter_dt 17.11ms; iter 3900: train loss 0.92702\n",
      "iter_dt 21.15ms; iter 4000: train loss 0.84015\n",
      "iter_dt 20.57ms; iter 4100: train loss 0.91477\n",
      "iter_dt 17.04ms; iter 4200: train loss 0.87560\n",
      "iter_dt 24.13ms; iter 4300: train loss 0.91482\n",
      "iter_dt 18.04ms; iter 4400: train loss 0.82746\n",
      "iter_dt 15.51ms; iter 4500: train loss 0.85849\n",
      "iter_dt 19.04ms; iter 4600: train loss 0.94763\n",
      "iter_dt 17.54ms; iter 4700: train loss 0.91757\n",
      "iter_dt 35.12ms; iter 4800: train loss 0.94078\n",
      "iter_dt 19.03ms; iter 4900: train loss 0.91667\n"
     ]
    }
   ],
   "source": [
    "def batch_end_callback(trainer):\n",
    "    if trainer.iter_num % 100 == 0:\n",
    "        print(\n",
    "            f\"iter_dt {trainer.iter_dt * 1000:.2f}ms; iter {trainer.iter_num}: train loss {trainer.loss.item():.5f}\"\n",
    "        )\n",
    "\n",
    "\n",
    "trainer.set_callback(\"on_batch_end\", batch_end_callback)\n",
    "\n",
    "trainer.run()"
   ]
  },
  {
   "cell_type": "code",
   "execution_count": 49,
   "id": "d13a31b3",
   "metadata": {},
   "outputs": [],
   "source": [
    "# now let's perform some evaluation\n",
    "model.eval()\n",
    "None"
   ]
  },
  {
   "cell_type": "code",
   "execution_count": null,
   "id": "863ed11f",
   "metadata": {},
   "outputs": [
    {
     "name": "stdout",
     "output_type": "stream",
     "text": [
      "train final score: 341/10000 = 3.41% correct\n",
      "test final score: 328/10000 = 3.28% correct\n"
     ]
    }
   ],
   "source": [
    "def eval_mult_split(trainer, split, max_batches):\n",
    "    dataset = {\"train\": train_dataset, \"test\": test_dataset}[split]\n",
    "    n = train_dataset.length  # naugy direct access shrug\n",
    "    results = []\n",
    "    mistakes_printed_already = 0\n",
    "    loader = DataLoader(dataset, batch_size=100, num_workers=0, drop_last=False)\n",
    "\n",
    "    for b, (x, y) in enumerate(loader):\n",
    "        x = x.to(trainer.device)\n",
    "        y = y.to(trainer.device)\n",
    "        \"\"\" \n",
    "            Dataset for the Add problem. E.g. for problem length 3:\n",
    "            12 + 333 = 345\n",
    "            Input: 0 1 2 3 3 3 -> Output: 0 3 4 5\n",
    "            Which will feed into the transformer concatenated as:\n",
    "            input:  0 1 2 3 3 3 0 3 4\n",
    "            output: I I I I I 0 3 4 5\n",
    "            where I is \"ignore\", as the transformer is reading the input sequence\n",
    "            \n",
    "        \"\"\"\n",
    "\n",
    "        \"\"\"\n",
    "        in:  8 9 6 | 9 9 9 | 8 9 5 1 0\n",
    "        out: I I I | I I 8 | 9 5 1 0 4\n",
    "        \"\"\"\n",
    "\n",
    "        inp = x[:, : 2 * n]\n",
    "        sol = y[:, -n * 2 :]\n",
    "\n",
    "        cat = model.generate(\n",
    "            inp, n * 2, do_sample=False\n",
    "        )  # using greedy argmax, not sampling\n",
    "        sol_candidate = cat[:, -n * 2 :]\n",
    "        correct = (sol == sol_candidate).all(1).cpu()\n",
    "        for i in range(x.size(0)):\n",
    "            results.append(int(correct[i]))\n",
    "\n",
    "    rt = torch.tensor(results, dtype=torch.float)\n",
    "    print(\n",
    "        \"%s final score: %d/%d = %.2f%% correct\"\n",
    "        % (split, rt.sum(), len(results), 100 * rt.mean())\n",
    "    )\n",
    "    return rt.sum()\n",
    "\n",
    "\n",
    "# run a lot of examples from both train and test through the model and verify the output correctness\n",
    "with torch.no_grad():\n",
    "    train_score = eval_mult_split(trainer, \"train\", max_batches=50)\n",
    "    test_score = eval_mult_split(trainer, \"test\", max_batches=50)"
   ]
  },
  {
   "cell_type": "code",
   "execution_count": null,
   "id": "a9cfcd76",
   "metadata": {},
   "outputs": [],
   "source": [
    "# Where we made changes to the code\n",
    "# 1. We changed instance function\n",
    "# 2. In rai = random_add_instance(self.length) we changed add to mult\n",
    "# 3. We incresed get_block_size to 4 * self.length + 1 - 1\n",
    "# 4. In eval_mult_split we changed the inp, sol and sol_candidate size from n+1 to n * 2\n",
    "# 5. In cat = model.generate(inp, n * 2, do_sample=False) we changed n+1 to n * 2\n",
    "# 6. We changed learning rate to 2e-6"
   ]
  }
 ],
 "metadata": {
  "kernelspec": {
   "display_name": "Python 3",
   "language": "python",
   "name": "python3"
  },
  "language_info": {
   "codemirror_mode": {
    "name": "ipython",
    "version": 3
   },
   "file_extension": ".py",
   "mimetype": "text/x-python",
   "name": "python",
   "nbconvert_exporter": "python",
   "pygments_lexer": "ipython3",
   "version": "3.10.4"
  }
 },
 "nbformat": 4,
 "nbformat_minor": 5
}
